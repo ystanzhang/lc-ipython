{
 "cells": [
  {
   "cell_type": "raw",
   "metadata": {},
   "source": [
    "Given a binary tree, return the level order traversal of its nodes' values. (ie, from left to right, level by level).\n",
    "\n",
    "For example:\n",
    "Given binary tree {3,9,20,#,#,15,7},\n",
    "    3\n",
    "   / \\\n",
    "  9  20\n",
    "    /  \\\n",
    "   15   7\n",
    "return its level order traversal as:\n",
    "[\n",
    "  [3],\n",
    "  [9,20],\n",
    "  [15,7]\n",
    "]"
   ]
  },
  {
   "cell_type": "code",
   "execution_count": 1,
   "metadata": {
    "collapsed": true
   },
   "outputs": [],
   "source": [
    "class TreeNode(object):\n",
    "    def __init__(self, x):\n",
    "        self.val = x\n",
    "        self.left = None\n",
    "        self.right = None"
   ]
  },
  {
   "cell_type": "code",
   "execution_count": 2,
   "metadata": {
    "collapsed": true
   },
   "outputs": [],
   "source": [
    "def deSBT (seq):\n",
    "    global index\n",
    "    if index >= len(seq):\n",
    "        return None\n",
    "    if seq [index] == '#':\n",
    "        index += 1\n",
    "        return None\n",
    "    root = TreeNode(seq[index])\n",
    "    index += 1\n",
    "    root.left = deSBT(seq)\n",
    "    root.right = deSBT(seq)\n",
    "    return root"
   ]
  },
  {
   "cell_type": "raw",
   "metadata": {},
   "source": [
    "    _30_ \n",
    "   /    \\    \n",
    "  10    20\n",
    " /     /  \\ \n",
    "50    45  35"
   ]
  },
  {
   "cell_type": "code",
   "execution_count": 3,
   "metadata": {
    "collapsed": true
   },
   "outputs": [],
   "source": [
    "sequence = [30, 10, 50, '#', '#', '#', 20, 45, '#', '#', 35, '#', '#']\n",
    "index = 0\n",
    "root = deSBT(sequence)"
   ]
  },
  {
   "cell_type": "code",
   "execution_count": 4,
   "metadata": {
    "collapsed": true
   },
   "outputs": [],
   "source": [
    " def levelOrder(root):\n",
    "        if not root:\n",
    "            return []\n",
    "        traversalList = []\n",
    "        travel = []\n",
    "        travel.append(root)\n",
    "        mark = 0\n",
    "        while len(travel) > mark: # Use mark to tell where is the head of the \"queue\"\n",
    "            temp = []\n",
    "            while len(travel) > mark:\n",
    "                temp.append(travel[mark])\n",
    "                mark += 1\n",
    "            traversalList.append([node.val for node in temp])\n",
    "            for node in temp:\n",
    "                if node.left:\n",
    "                    travel.append(node.left)\n",
    "                if node.right:\n",
    "                    travel.append(node.right)\n",
    "        return traversalList"
   ]
  },
  {
   "cell_type": "code",
   "execution_count": 5,
   "metadata": {
    "collapsed": true
   },
   "outputs": [],
   "source": [
    "# use two queues\n",
    "import collections\n",
    "def levelOrder(root):\n",
    "    qCur = collections.deque()\n",
    "    qNext = collections.deque()\n",
    "    qCur.append(root) \n",
    "    res = [] #stores returned result\n",
    "    temp = [] #stores current level's node values\n",
    "    while qCur:\n",
    "        curNode = qCur.popleft()\n",
    "        if curNode:\n",
    "            temp.append(curNode.val)\n",
    "            qNext.append(curNode.left)\n",
    "            qNext.append(curNode.right)\n",
    "        if not qCur:\n",
    "            if temp:\n",
    "                res.append(temp)\n",
    "                temp = []\n",
    "            # update current queue to next queue, and next queue to empty queue\n",
    "            qCur,qNext = qNext,qCur\n",
    "    return res"
   ]
  },
  {
   "cell_type": "code",
   "execution_count": 7,
   "metadata": {
    "collapsed": false
   },
   "outputs": [
    {
     "name": "stdout",
     "output_type": "stream",
     "text": [
      "[[30], [10, 20], [50, 45, 35]]\n"
     ]
    }
   ],
   "source": [
    "sequence = [30, 10, 50, '#', '#', '#', 20, 45, '#', '#', 35, '#', '#']\n",
    "index = 0\n",
    "root = deSBT(sequence)\n",
    "# [[30], [10, 20], [50, 45, 35]]\n",
    "print levelOrder (root)"
   ]
  }
 ],
 "metadata": {
  "kernelspec": {
   "display_name": "Python 2",
   "language": "python",
   "name": "python2"
  },
  "language_info": {
   "codemirror_mode": {
    "name": "ipython",
    "version": 2
   },
   "file_extension": ".py",
   "mimetype": "text/x-python",
   "name": "python",
   "nbconvert_exporter": "python",
   "pygments_lexer": "ipython2",
   "version": "2.7.10"
  }
 },
 "nbformat": 4,
 "nbformat_minor": 0
}
