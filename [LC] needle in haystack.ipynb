{
 "cells": [
  {
   "cell_type": "code",
   "execution_count": 19,
   "metadata": {
    "collapsed": true
   },
   "outputs": [],
   "source": [
    "# brutal force\n",
    "def strStr( haystack, needle):\n",
    "    if needle == \"\":\n",
    "        return 0\n",
    "    for i in range(len(haystack)-len(needle)+1):\n",
    "        for j in range(len(needle)):\n",
    "            if haystack[i+j] != needle[j]:\n",
    "                break\n",
    "            if j == len(needle)-1:\n",
    "                return i\n",
    "    return -1"
   ]
  },
  {
   "cell_type": "code",
   "execution_count": 31,
   "metadata": {
    "collapsed": false
   },
   "outputs": [],
   "source": [
    "# KMP\n",
    "def strStr( haystack, needle):\n",
    "    m = len(haystack)\n",
    "    n = len(needle)\n",
    "    key = [n]*n\n",
    "    for i in range(1,n):\n",
    "        j = key[i-1]\n",
    "        while (j !=0 and needle[i]!=haystack[j]):\n",
    "            j = key[j-1]\n",
    "        if n[i] == n[j]:\n",
    "            key[i] = j + 1\n",
    "        else: \n",
    "            key[i] = j\n",
    "    i = 0\n",
    "    j = 0\n",
    "    while(i < n and j < m):\n",
    "        if(i > 0 and needle[i] != haystack[j]):\n",
    "            i = key[i-1]\n",
    "        else:\n",
    "            j += 1\n",
    "            if needle[i]==haystack[j]:\n",
    "                i += 1\n",
    "    if i==n :\n",
    "        return j-n\n",
    "    return -1\n",
    "    \n",
    "            "
   ]
  },
  {
   "cell_type": "code",
   "execution_count": null,
   "metadata": {
    "collapsed": false
   },
   "outputs": [],
   "source": [
    "print strStr(\"I love coke\",\"cola\")"
   ]
  },
  {
   "cell_type": "code",
   "execution_count": 15,
   "metadata": {
    "collapsed": false
   },
   "outputs": [
    {
     "name": "stdout",
     "output_type": "stream",
     "text": [
      "e\n"
     ]
    }
   ],
   "source": [
    "string = \"hello\"\n",
    "print string[1]"
   ]
  },
  {
   "cell_type": "code",
   "execution_count": 34,
   "metadata": {
    "collapsed": false
   },
   "outputs": [
    {
     "name": "stdout",
     "output_type": "stream",
     "text": [
      "1\n",
      "2\n",
      "3\n",
      "4\n"
     ]
    }
   ],
   "source": [
    "for i in range(1,5):\n",
    "    print i"
   ]
  },
  {
   "cell_type": "code",
   "execution_count": 35,
   "metadata": {
    "collapsed": false
   },
   "outputs": [
    {
     "name": "stdout",
     "output_type": "stream",
     "text": [
      "12\n"
     ]
    }
   ],
   "source": [
    "strs = \"1234\"\n",
    "print strs[0:2]"
   ]
  }
 ],
 "metadata": {
  "kernelspec": {
   "display_name": "Python 2",
   "language": "python",
   "name": "python2"
  },
  "language_info": {
   "codemirror_mode": {
    "name": "ipython",
    "version": 2
   },
   "file_extension": ".py",
   "mimetype": "text/x-python",
   "name": "python",
   "nbconvert_exporter": "python",
   "pygments_lexer": "ipython2",
   "version": "2.7.6"
  }
 },
 "nbformat": 4,
 "nbformat_minor": 0
}
