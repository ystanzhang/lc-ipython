{
 "cells": [
  {
   "cell_type": "raw",
   "metadata": {},
   "source": [
    "Design and implement a data structure for Least Recently Used (LRU) cache. It should support the following operations: get and set.\n",
    "\n",
    "get(key) - Get the value (will always be positive) of the key if the key exists in the cache, otherwise return -1.\n",
    "set(key, value) - Set or insert the value if the key is not already present. When the cache reached its capacity, it should invalidate the least recently used item before inserting a new item.\n",
    "\n"
   ]
  },
  {
   "cell_type": "code",
   "execution_count": 1,
   "metadata": {
    "collapsed": true
   },
   "outputs": [],
   "source": [
    "from collections import OrderedDict\n",
    "\n",
    "class LRUCache(object):\n",
    "    def __init__(self, size):\n",
    "        self.size, self.cache = size, OrderedDict()\n",
    "\n",
    "    def get(self, key):\n",
    "        value = self.cache.pop(key, None)\n",
    "        if value: \n",
    "            self.cache[key] = value\n",
    "        return value or -1\n",
    "    \n",
    "    def set(self, key, value):     \n",
    "        if self.cache.pop(key, None) is None and self.size == len(self.cache):\n",
    "            self.cache.popitem(last=False)\n",
    "        self.cache[key] = value"
   ]
  }
 ],
 "metadata": {
  "kernelspec": {
   "display_name": "Python 2",
   "language": "python",
   "name": "python2"
  },
  "language_info": {
   "codemirror_mode": {
    "name": "ipython",
    "version": 2
   },
   "file_extension": ".py",
   "mimetype": "text/x-python",
   "name": "python",
   "nbconvert_exporter": "python",
   "pygments_lexer": "ipython2",
   "version": "2.7.10"
  }
 },
 "nbformat": 4,
 "nbformat_minor": 0
}
