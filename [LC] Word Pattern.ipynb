{
 "cells": [
  {
   "cell_type": "raw",
   "metadata": {},
   "source": [
    "Given a pattern and a string str, find if str follows the same pattern.\n",
    "\n",
    "Examples:\n",
    "pattern = \"abba\", str = \"dog cat cat dog\" should return true.\n",
    "pattern = \"abba\", str = \"dog cat cat fish\" should return false.\n",
    "pattern = \"aaaa\", str = \"dog cat cat dog\" should return false.\n",
    "pattern = \"abba\", str = \"dog dog dog dog\" should return false.\n",
    "Notes:\n",
    "Both pattern and str contains only lowercase alphabetical letters.\n",
    "Both pattern and str do not have leading or trailing spaces.\n",
    "Each word in str is separated by a single space.\n",
    "Each letter in pattern must map to a word with length that is at least 1."
   ]
  },
  {
   "cell_type": "code",
   "execution_count": 30,
   "metadata": {
    "collapsed": true
   },
   "outputs": [],
   "source": [
    "def wordPattern( pattern, str):\n",
    "    s = pattern\n",
    "    t = str.split()\n",
    "    # map(s.find,s) returns lowest index for each char in string s\n",
    "    # map(t.index,t) returns lowest index for each element in array t\n",
    "    return map(s.find, s) == map(t.index, t)"
   ]
  },
  {
   "cell_type": "code",
   "execution_count": 29,
   "metadata": {
    "collapsed": false
   },
   "outputs": [
    {
     "name": "stdout",
     "output_type": "stream",
     "text": [
      "[0, 1, 1, 0]\n",
      "[0, 1, 1, 0]\n",
      "true\n"
     ]
    }
   ],
   "source": [
    "pat = \"abba\"\n",
    "string = \"dog cat cat dog\"\n",
    "if wordPattern (pat,string):\n",
    "    print \"true\"\n",
    "else:\n",
    "    print \"false\""
   ]
  },
  {
   "cell_type": "code",
   "execution_count": 2,
   "metadata": {
    "collapsed": false
   },
   "outputs": [
    {
     "name": "stdout",
     "output_type": "stream",
     "text": [
      "['dog', 'dog', 'dog', 'dog']\n"
     ]
    }
   ],
   "source": [
    "print array"
   ]
  }
 ],
 "metadata": {
  "kernelspec": {
   "display_name": "Python 2",
   "language": "python",
   "name": "python2"
  },
  "language_info": {
   "codemirror_mode": {
    "name": "ipython",
    "version": 2
   },
   "file_extension": ".py",
   "mimetype": "text/x-python",
   "name": "python",
   "nbconvert_exporter": "python",
   "pygments_lexer": "ipython2",
   "version": "2.7.6"
  }
 },
 "nbformat": 4,
 "nbformat_minor": 0
}
