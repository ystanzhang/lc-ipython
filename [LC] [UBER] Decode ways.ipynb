{
 "cells": [
  {
   "cell_type": "raw",
   "metadata": {},
   "source": [
    " message containing letters from A-Z is being encoded to numbers using the following mapping:\n",
    "\n",
    "'A' -> 1\n",
    "'B' -> 2\n",
    "...\n",
    "'Z' -> 26\n",
    "Given an encoded message containing digits, determine the total number of ways to decode it.\n",
    "\n",
    "For example,\n",
    "Given encoded message \"12\", it could be decoded as \"AB\" (1 2) or \"L\" (12).\n",
    "\n",
    "The number of ways decoding \"12\" is 2.\n",
    "\n",
    "Show Company Tags\n",
    "Show Tags\n"
   ]
  },
  {
   "cell_type": "code",
   "execution_count": 33,
   "metadata": {
    "collapsed": true
   },
   "outputs": [],
   "source": [
    "def sol(s):\n",
    "    if s==\"\" or s[0]=='0': \n",
    "        return 0\n",
    "    if len(s) == 1:\n",
    "        return 1\n",
    "    # init first two digits\n",
    "#     当s[i-2:i]这两个字符是10~26但不包括10和20这两个数时，比如21，那么可以有两种编码方式（BA，U），所以dp[i]=dp[i-1]+dp[i-2]\n",
    "\n",
    "# 　　　　　当s[i-2:i]等于10或者20时，由于10和20只有一种编码方式，所以dp[i]=dp[i-2]\n",
    "\n",
    "# 　　　　   当s[i-2:i]不在以上两个范围时，如09这种，编码方式为0，而31这种，dp[i]=dp[i-1]\n",
    "    dp=[1,1]\n",
    "    for i in range(2,len(s)+1):\n",
    "        # check 2 digits to see if between 10 and 26\n",
    "        # and no 0 before the 2 digits\n",
    "        if 10 <=int(s[i-2:i]) <=26 and s[i-1]!='0':\n",
    "            print (i, 'two digit: ',int(s[i-2:i]))\n",
    "            dp.append(dp[i-1]+dp[i-2])\n",
    "            print dp\n",
    "        elif int(s[i-2:i])==10 or int(s[i-2:i])==20:\n",
    "            # same as the combo num of 2 digits before\n",
    "            dp.append(dp[i-2])\n",
    "        elif s[i-1]!='0':\n",
    "            # regular single digit\n",
    "            dp.append(dp[i-1])\n",
    "        else:\n",
    "            # 00 etc\n",
    "            return 0\n",
    "        print dp\n",
    "    print dp\n",
    "    return dp[len(s)]"
   ]
  },
  {
   "cell_type": "code",
   "execution_count": 34,
   "metadata": {
    "collapsed": false
   },
   "outputs": [
    {
     "name": "stdout",
     "output_type": "stream",
     "text": [
      "(2, 'two digit: ', 21)\n",
      "[1, 1, 2]\n",
      "[1, 1, 2]\n",
      "(3, 'two digit: ', 12)\n",
      "[1, 1, 2, 3]\n",
      "[1, 1, 2, 3]\n",
      "[1, 1, 2, 3, 2]\n",
      "[1, 1, 2, 3, 2, 2]\n",
      "[1, 1, 2, 3, 2, 2]\n"
     ]
    },
    {
     "data": {
      "text/plain": [
       "2"
      ]
     },
     "execution_count": 34,
     "metadata": {},
     "output_type": "execute_result"
    }
   ],
   "source": [
    "sol('21201')"
   ]
  }
 ],
 "metadata": {
  "kernelspec": {
   "display_name": "Python 2",
   "language": "python",
   "name": "python2"
  },
  "language_info": {
   "codemirror_mode": {
    "name": "ipython",
    "version": 2
   },
   "file_extension": ".py",
   "mimetype": "text/x-python",
   "name": "python",
   "nbconvert_exporter": "python",
   "pygments_lexer": "ipython2",
   "version": "2.7.10"
  }
 },
 "nbformat": 4,
 "nbformat_minor": 0
}
