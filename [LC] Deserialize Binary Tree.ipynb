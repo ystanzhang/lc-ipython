{
 "cells": [
  {
   "cell_type": "code",
   "execution_count": 1,
   "metadata": {
    "collapsed": true
   },
   "outputs": [],
   "source": [
    "class TreeNode(object):\n",
    "    def __init__(self, x):\n",
    "        self.val = x\n",
    "        self.left = None\n",
    "        self.right = None"
   ]
  },
  {
   "cell_type": "code",
   "execution_count": 3,
   "metadata": {
    "collapsed": true
   },
   "outputs": [],
   "source": [
    "def preOrder(node):\n",
    "    if not node:\n",
    "        return\n",
    "    print node.val\n",
    "    preOrder(node.left)\n",
    "    preOrder(node.right)\n",
    "def inOrder(node):\n",
    "    if not node:\n",
    "        return\n",
    "    \n",
    "    inOrder(node.left)\n",
    "    print node.val\n",
    "    inOrder(node.right)\n",
    "def postOrder(node):\n",
    "    if not node:\n",
    "        return\n",
    "    postOrder(node.left)\n",
    "    print node.val\n",
    "    postOrder(node.right)"
   ]
  },
  {
   "cell_type": "code",
   "execution_count": 4,
   "metadata": {
    "collapsed": false
   },
   "outputs": [],
   "source": [
    "def deSBT (seq):\n",
    "    global index\n",
    "    if index >= len(seq):\n",
    "        return None\n",
    "    if seq [index] == '#':\n",
    "        index += 1\n",
    "        return None\n",
    "    root = TreeNode(seq[index])\n",
    "    index += 1\n",
    "    root.left = deSBT(seq)\n",
    "    root.right = deSBT(seq)\n",
    "    return root\n",
    "    \n",
    "    "
   ]
  },
  {
   "cell_type": "code",
   "execution_count": 29,
   "metadata": {
    "collapsed": false
   },
   "outputs": [],
   "source": [
    "import collections\n",
    "class TreeNode(object):\n",
    "    def __init__(self, x):\n",
    "        self.val = x\n",
    "        self.left = None\n",
    "        self.right = None\n",
    "def initNode (val):\n",
    "    if val == '#':\n",
    "        return None\n",
    "    return TreeNode(val)\n",
    "def deSorderLevel (seq):\n",
    "    index = 0\n",
    "    length = len(seq)\n",
    "    root = TreeNode(seq[index])\n",
    "    index += 1\n",
    "    qCur = collections.deque()\n",
    "    qNext = collections.deque()\n",
    "    qCur.append(root)\n",
    "    while qCur:\n",
    "        node = qCur.popleft()\n",
    "        if node:\n",
    "            left = initNode(seq[index])\n",
    "            node.left = left\n",
    "            qNext.append(left)\n",
    "            if index == length-1:\n",
    "                break\n",
    "            index += 1\n",
    "            right = initNode(seq[index])\n",
    "            node.right = right\n",
    "            qNext.append(right)\n",
    "            if index == length-1:\n",
    "                break\n",
    "            index += 1\n",
    "        if not qCur:\n",
    "            qCur,qNext = qNext,qCur\n",
    "    return root\n",
    "    "
   ]
  },
  {
   "cell_type": "code",
   "execution_count": 5,
   "metadata": {
    "collapsed": false,
    "scrolled": true
   },
   "outputs": [
    {
     "name": "stdout",
     "output_type": "stream",
     "text": [
      "30\n"
     ]
    },
    {
     "ename": "NameError",
     "evalue": "global name 'traverse' is not defined",
     "output_type": "error",
     "traceback": [
      "\u001b[0;31m---------------------------------------------------------------------------\u001b[0m",
      "\u001b[0;31mNameError\u001b[0m                                 Traceback (most recent call last)",
      "\u001b[0;32m<ipython-input-5-4e379a7e2153>\u001b[0m in \u001b[0;36m<module>\u001b[0;34m()\u001b[0m\n\u001b[1;32m      8\u001b[0m     \u001b[0mtraverse\u001b[0m\u001b[0;34m(\u001b[0m\u001b[0mnode\u001b[0m\u001b[0;34m.\u001b[0m\u001b[0mleft\u001b[0m\u001b[0;34m)\u001b[0m\u001b[0;34m\u001b[0m\u001b[0m\n\u001b[1;32m      9\u001b[0m     \u001b[0mtraverse\u001b[0m\u001b[0;34m(\u001b[0m\u001b[0mnode\u001b[0m\u001b[0;34m.\u001b[0m\u001b[0mright\u001b[0m\u001b[0;34m)\u001b[0m\u001b[0;34m\u001b[0m\u001b[0m\n\u001b[0;32m---> 10\u001b[0;31m \u001b[0mpreOrder\u001b[0m\u001b[0;34m(\u001b[0m\u001b[0mroot\u001b[0m\u001b[0;34m)\u001b[0m\u001b[0;34m\u001b[0m\u001b[0m\n\u001b[0m",
      "\u001b[0;32m<ipython-input-5-4e379a7e2153>\u001b[0m in \u001b[0;36mpreOrder\u001b[0;34m(node)\u001b[0m\n\u001b[1;32m      6\u001b[0m         \u001b[0;32mreturn\u001b[0m\u001b[0;34m\u001b[0m\u001b[0m\n\u001b[1;32m      7\u001b[0m     \u001b[0;32mprint\u001b[0m \u001b[0mnode\u001b[0m\u001b[0;34m.\u001b[0m\u001b[0mval\u001b[0m\u001b[0;34m\u001b[0m\u001b[0m\n\u001b[0;32m----> 8\u001b[0;31m     \u001b[0mtraverse\u001b[0m\u001b[0;34m(\u001b[0m\u001b[0mnode\u001b[0m\u001b[0;34m.\u001b[0m\u001b[0mleft\u001b[0m\u001b[0;34m)\u001b[0m\u001b[0;34m\u001b[0m\u001b[0m\n\u001b[0m\u001b[1;32m      9\u001b[0m     \u001b[0mtraverse\u001b[0m\u001b[0;34m(\u001b[0m\u001b[0mnode\u001b[0m\u001b[0;34m.\u001b[0m\u001b[0mright\u001b[0m\u001b[0;34m)\u001b[0m\u001b[0;34m\u001b[0m\u001b[0m\n\u001b[1;32m     10\u001b[0m \u001b[0mpreOrder\u001b[0m\u001b[0;34m(\u001b[0m\u001b[0mroot\u001b[0m\u001b[0;34m)\u001b[0m\u001b[0;34m\u001b[0m\u001b[0m\n",
      "\u001b[0;31mNameError\u001b[0m: global name 'traverse' is not defined"
     ]
    }
   ],
   "source": [
    "sequence = [30, 10, 50, '#', '#', '#', 20, 45, '#', '#', 36, '#', '#']\n",
    "index = 0\n",
    "root = deSBT(sequence)\n",
    "def preOrder(node):\n",
    "    if not node:\n",
    "        return\n",
    "    print node.val\n",
    "    traverse(node.left)\n",
    "    traverse(node.right)\n",
    "preOrder(root)"
   ]
  },
  {
   "cell_type": "raw",
   "metadata": {},
   "source": [
    "    3\n",
    "   / \\\n",
    "  9  20\n",
    " /  /  \\\n",
    "1  15   7"
   ]
  },
  {
   "cell_type": "code",
   "execution_count": 33,
   "metadata": {
    "collapsed": false
   },
   "outputs": [
    {
     "name": "stdout",
     "output_type": "stream",
     "text": [
      "1\n",
      "9\n",
      "3\n",
      "15\n",
      "20\n",
      "7\n"
     ]
    }
   ],
   "source": [
    "seq = [3,9,20,1,'#',15,7]\n",
    "root = deSorderLevel(seq)\n",
    "inOrder(root)"
   ]
  },
  {
   "cell_type": "code",
   "execution_count": 2,
   "metadata": {
    "collapsed": true
   },
   "outputs": [],
   "source": [
    "def preOrder(node):\n",
    "    if not node:\n",
    "        return\n",
    "    print node.val\n",
    "    preOrder(node.left)\n",
    "    preOrder(node.right)\n",
    "def inOrder(node):\n",
    "    if not node:\n",
    "        return\n",
    "    \n",
    "    inOrder(node.left)\n",
    "    print node.val\n",
    "    inOrder(node.right)\n",
    "def postOrder(node):\n",
    "    if not node:\n",
    "        return\n",
    "    postOrder(node.left)\n",
    "    print node.val\n",
    "    postOrder(node.right)"
   ]
  },
  {
   "cell_type": "code",
   "execution_count": 6,
   "metadata": {
    "collapsed": true
   },
   "outputs": [],
   "source": [
    "import collections\n",
    "class TreeNode(object):\n",
    "    def __init__(self, x):\n",
    "        self.val = x\n",
    "        self.left = None\n",
    "        self.right = None\n",
    "def initNode (val):\n",
    "    if val == '#':\n",
    "        return None\n",
    "    return TreeNode(val)\n",
    "def deSorderLevel (seq):\n",
    "    index = 0\n",
    "    length = len(seq)\n",
    "    root = TreeNode(seq[index])\n",
    "    index += 1\n",
    "    qCur = collections.deque()\n",
    "    qNext = collections.deque()\n",
    "    qCur.append(root)\n",
    "    while qCur:\n",
    "        node = qCur.popleft()\n",
    "        if node:\n",
    "            # construct child node, link to parent node and update qNext\n",
    "            left = initNode(seq[index])\n",
    "            node.left = left\n",
    "            qNext.append(left)\n",
    "            if index == length-1:\n",
    "                break\n",
    "            index += 1\n",
    "            # do the same thing for the right node\n",
    "            right = initNode(seq[index])\n",
    "            node.right = right\n",
    "            qNext.append(right)\n",
    "            if index == length-1:\n",
    "                break\n",
    "            index += 1\n",
    "        # all parent nodes ocupied\n",
    "        if not qCur:\n",
    "            qCur,qNext = qNext,qCur\n",
    "    return root"
   ]
  },
  {
   "cell_type": "code",
   "execution_count": 7,
   "metadata": {
    "collapsed": false
   },
   "outputs": [
    {
     "name": "stdout",
     "output_type": "stream",
     "text": [
      "3\n",
      "5\n",
      "4\n",
      "6\n",
      "8\n",
      "7\n",
      "9\n"
     ]
    }
   ],
   "source": [
    "seq = [6,5,7,3,4,8,9]\n",
    "root = deSorderLevel(seq)\n",
    "inOrder(root)"
   ]
  }
 ],
 "metadata": {
  "kernelspec": {
   "display_name": "Python 2",
   "language": "python",
   "name": "python2"
  },
  "language_info": {
   "codemirror_mode": {
    "name": "ipython",
    "version": 2
   },
   "file_extension": ".py",
   "mimetype": "text/x-python",
   "name": "python",
   "nbconvert_exporter": "python",
   "pygments_lexer": "ipython2",
   "version": "2.7.10"
  }
 },
 "nbformat": 4,
 "nbformat_minor": 0
}
