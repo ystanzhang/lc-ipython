{
 "cells": [
  {
   "cell_type": "markdown",
   "metadata": {},
   "source": [
    "Given a sorted array, remove the duplicates in place such that each element appear only once and return the new length.\n",
    "\n",
    "Do not allocate extra space for another array, you must do this in place with constant memory.\n",
    "\n",
    "For example,\n",
    "Given input array nums = [1,1,2],\n",
    "\n",
    "Your function should return length = 2, with the first two elements of nums being 1 and 2 respectively. It doesn't matter what you leave beyond the new length."
   ]
  },
  {
   "cell_type": "code",
   "execution_count": 5,
   "metadata": {
    "collapsed": true
   },
   "outputs": [],
   "source": [
    "class Solution(object):\n",
    "    def removeDuplicates(self, nums):\n",
    "        \"\"\"\n",
    "        :type nums: List[int]\n",
    "        :rtype: int\n",
    "        \"\"\"\n",
    "        if len(nums) == 0:\n",
    "            return 0\n",
    "        prev = nums[0]\n",
    "        res = 1\n",
    "        for i in range(1,len(nums)):\n",
    "            if nums[i] != prev:\n",
    "                prev = nums[i]\n",
    "                res += 1\n",
    "                #update the array\n",
    "#                 nums [res-1] = nums[i]\n",
    "        print nums\n",
    "        return res\n",
    "        "
   ]
  },
  {
   "cell_type": "code",
   "execution_count": 6,
   "metadata": {
    "collapsed": false
   },
   "outputs": [
    {
     "name": "stdout",
     "output_type": "stream",
     "text": [
      "[1, 1, 1, 1, 2, 2, 2, 5]\n",
      "3\n"
     ]
    }
   ],
   "source": [
    "sol = Solution()\n",
    "nums = [1,1,1,1,2,2,2,5]\n",
    "print sol.removeDuplicates(nums)"
   ]
  }
 ],
 "metadata": {
  "kernelspec": {
   "display_name": "Python 2",
   "language": "python",
   "name": "python2"
  },
  "language_info": {
   "codemirror_mode": {
    "name": "ipython",
    "version": 2
   },
   "file_extension": ".py",
   "mimetype": "text/x-python",
   "name": "python",
   "nbconvert_exporter": "python",
   "pygments_lexer": "ipython2",
   "version": "2.7.10"
  }
 },
 "nbformat": 4,
 "nbformat_minor": 0
}
