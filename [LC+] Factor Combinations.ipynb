{
 "cells": [
  {
   "cell_type": "code",
   "execution_count": 15,
   "metadata": {
    "collapsed": true
   },
   "outputs": [],
   "source": [
    "def helper(start,n,items,res):\n",
    "    if n==1:\n",
    "        if items:\n",
    "            res.append(items)\n",
    "        return\n",
    "    for i in range(start,n+1):\n",
    "        if n%i == 0:\n",
    "            items.append(i)\n",
    "            helper(i,n/i,items,res)\n",
    "#             items.pop()\n",
    "def getFactors(n):\n",
    "    res = []\n",
    "    factors = []\n",
    "    if (n<=3):\n",
    "        return res\n",
    "    helper(2,n,factors,res)\n",
    "    return res"
   ]
  },
  {
   "cell_type": "code",
   "execution_count": 88,
   "metadata": {
    "collapsed": true
   },
   "outputs": [],
   "source": [
    "# iterative\n",
    "def getFactors( n):\n",
    "    todo, res = [(n, 2, [])], []\n",
    "    while todo:\n",
    "        n, i, combi = todo.pop()\n",
    "        while i * i <= n:\n",
    "            if n % i == 0:\n",
    "                res.append(combi + [i, n/i])\n",
    "                todo.append ([n/i, i, combi+[i]])\n",
    "            i += 1\n",
    "    return res"
   ]
  },
  {
   "cell_type": "code",
   "execution_count": 3,
   "metadata": {
    "collapsed": false
   },
   "outputs": [],
   "source": [
    "# recursive\n",
    "def getFactors( n):\n",
    "    def factor(n, i, combi, combis):\n",
    "        print(n, i, combi, combis)\n",
    "        while i * i <= n:\n",
    "            if n % i == 0:\n",
    "                combis.append (combi + [i, n/i])\n",
    "                factor(n/i, i, combi+[i], combis)\n",
    "            i += 1\n",
    "        return combis\n",
    "    return factor(n, 2, [], [])"
   ]
  },
  {
   "cell_type": "code",
   "execution_count": 4,
   "metadata": {
    "collapsed": false
   },
   "outputs": [
    {
     "name": "stdout",
     "output_type": "stream",
     "text": [
      "(24, 2, [], [])\n",
      "(12, 2, [2], [[2, 12]])\n",
      "(6, 2, [2, 2], [[2, 12], [2, 2, 6]])\n",
      "(3, 2, [2, 2, 2], [[2, 12], [2, 2, 6], [2, 2, 2, 3]])\n",
      "(4, 3, [2, 3], [[2, 12], [2, 2, 6], [2, 2, 2, 3], [2, 3, 4]])\n",
      "(8, 3, [3], [[2, 12], [2, 2, 6], [2, 2, 2, 3], [2, 3, 4], [3, 8]])\n",
      "(6, 4, [4], [[2, 12], [2, 2, 6], [2, 2, 2, 3], [2, 3, 4], [3, 8], [4, 6]])\n",
      "[[2, 12], [2, 2, 6], [2, 2, 2, 3], [2, 3, 4], [3, 8], [4, 6]]\n"
     ]
    }
   ],
   "source": [
    "print getFactors(24)"
   ]
  }
 ],
 "metadata": {
  "kernelspec": {
   "display_name": "Python 2",
   "language": "python",
   "name": "python2"
  },
  "language_info": {
   "codemirror_mode": {
    "name": "ipython",
    "version": 2
   },
   "file_extension": ".py",
   "mimetype": "text/x-python",
   "name": "python",
   "nbconvert_exporter": "python",
   "pygments_lexer": "ipython2",
   "version": "2.7.10"
  }
 },
 "nbformat": 4,
 "nbformat_minor": 0
}
