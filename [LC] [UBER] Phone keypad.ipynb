{
 "cells": [
  {
   "cell_type": "code",
   "execution_count": 4,
   "metadata": {
    "collapsed": true
   },
   "outputs": [],
   "source": [
    "def letterCombinations(digits):\n",
    "        map = {'2':'abc', '3':'def', '4':'ghi', '5':'jkl', '6':'mno', '7':'pqrs', '8':'tuv', '9':'wxyz'}\n",
    "        if len(digits) == 0: return []\n",
    "        return [a+b for a in letterCombinations(digits[:-1])\n",
    "                    for b in letterCombinations(digits[-1] )] or list(map[digits])"
   ]
  },
  {
   "cell_type": "code",
   "execution_count": 31,
   "metadata": {
    "collapsed": true
   },
   "outputs": [],
   "source": [
    "def letterCombinations(digits):\n",
    "    if len(digits)==0: \n",
    "        return []\n",
    "    maps = {\"1\":\"\" , \"2\":\"abc\" , \"3\":\"def\" , \"4\":\"ghi\" , \"5\":\"jkl\" , \"6\":\"mno\" , \"7\":\"pqrs\" , \"8\":\"tuv\" , \"9\":\"wxyz\"}\n",
    "            \n",
    "    results = []\n",
    "    results.append(\"\")\n",
    "        \n",
    "    for digit in digits:\n",
    "        if digit == '1':\n",
    "            continue\n",
    "        temp = []\n",
    "        word = maps[digit]\n",
    "        for alphabet in word:\n",
    "            for result in results:\n",
    "                temp.append(result+alphabet)\n",
    "        print (digit, temp, results)\n",
    "        # swap temp and results\n",
    "        results = temp\n",
    "    return results"
   ]
  },
  {
   "cell_type": "code",
   "execution_count": 32,
   "metadata": {
    "collapsed": false
   },
   "outputs": [
    {
     "name": "stdout",
     "output_type": "stream",
     "text": [
      "('2', ['a', 'b', 'c'], [''])\n",
      "('3', ['ad', 'bd', 'cd', 'ae', 'be', 'ce', 'af', 'bf', 'cf'], ['a', 'b', 'c'])\n",
      "('3', ['add', 'bdd', 'cdd', 'aed', 'bed', 'ced', 'afd', 'bfd', 'cfd', 'ade', 'bde', 'cde', 'aee', 'bee', 'cee', 'afe', 'bfe', 'cfe', 'adf', 'bdf', 'cdf', 'aef', 'bef', 'cef', 'aff', 'bff', 'cff'], ['ad', 'bd', 'cd', 'ae', 'be', 'ce', 'af', 'bf', 'cf'])\n",
      "['add', 'bdd', 'cdd', 'aed', 'bed', 'ced', 'afd', 'bfd', 'cfd', 'ade', 'bde', 'cde', 'aee', 'bee', 'cee', 'afe', 'bfe', 'cfe', 'adf', 'bdf', 'cdf', 'aef', 'bef', 'cef', 'aff', 'bff', 'cff']\n"
     ]
    }
   ],
   "source": [
    "print letterCombinations('12313')"
   ]
  },
  {
   "cell_type": "code",
   "execution_count": 33,
   "metadata": {
    "collapsed": false
   },
   "outputs": [
    {
     "data": {
      "text/plain": [
       "'ab'"
      ]
     },
     "execution_count": 33,
     "metadata": {},
     "output_type": "execute_result"
    }
   ],
   "source": [
    "'a'+'b'"
   ]
  }
 ],
 "metadata": {
  "kernelspec": {
   "display_name": "Python 2",
   "language": "python",
   "name": "python2"
  },
  "language_info": {
   "codemirror_mode": {
    "name": "ipython",
    "version": 2
   },
   "file_extension": ".py",
   "mimetype": "text/x-python",
   "name": "python",
   "nbconvert_exporter": "python",
   "pygments_lexer": "ipython2",
   "version": "2.7.10"
  }
 },
 "nbformat": 4,
 "nbformat_minor": 0
}
