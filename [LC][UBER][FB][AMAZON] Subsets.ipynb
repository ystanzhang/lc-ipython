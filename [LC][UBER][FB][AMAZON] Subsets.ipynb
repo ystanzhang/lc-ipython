{
 "cells": [
  {
   "cell_type": "markdown",
   "metadata": {},
   "source": [
    "Given a set of distinct integers, nums, return all possible subsets.\n",
    "\n",
    "Note: The solution set must not contain duplicate subsets.\n",
    "\n",
    "For example,\n",
    "If nums = [1,2,3], a solution is:\n",
    "\n",
    "\n",
    "~~~[\n",
    "  [3],\n",
    "  [1],\n",
    "  [2],\n",
    "  [1,2,3],\n",
    "  [1,3],\n",
    "  [2,3],\n",
    "  [1,2],\n",
    "  []\n",
    "]~~~\n"
   ]
  },
  {
   "cell_type": "code",
   "execution_count": 1,
   "metadata": {
    "collapsed": true
   },
   "outputs": [],
   "source": [
    "def subsets(nums):\n",
    "    nums = sorted(nums)\n",
    "    sort = []\n",
    "    res = [[]]\n",
    "    if len(nums) < 1:\n",
    "        sort = nums\n",
    "    else:\n",
    "        prev = nums[0]\n",
    "        sort.append(nums[0])\n",
    "        for i in range(1,len(nums)):\n",
    "            if nums[i] != prev:\n",
    "                sort.append(nums[i])\n",
    "                prev = nums[i]\n",
    "    for i in sort:\n",
    "        res += [[i] + item for item in res]\n",
    "    return res"
   ]
  },
  {
   "cell_type": "code",
   "execution_count": 2,
   "metadata": {
    "collapsed": false
   },
   "outputs": [
    {
     "data": {
      "text/plain": [
       "[[],\n",
       " [1],\n",
       " [2],\n",
       " [2, 1],\n",
       " [3],\n",
       " [3, 1],\n",
       " [3, 2],\n",
       " [3, 2, 1],\n",
       " [4],\n",
       " [4, 1],\n",
       " [4, 2],\n",
       " [4, 2, 1],\n",
       " [4, 3],\n",
       " [4, 3, 1],\n",
       " [4, 3, 2],\n",
       " [4, 3, 2, 1]]"
      ]
     },
     "execution_count": 2,
     "metadata": {},
     "output_type": "execute_result"
    }
   ],
   "source": [
    "subsets([1,3,2,1,2,3,4])"
   ]
  }
 ],
 "metadata": {
  "kernelspec": {
   "display_name": "Python 2",
   "language": "python",
   "name": "python2"
  },
  "language_info": {
   "codemirror_mode": {
    "name": "ipython",
    "version": 2
   },
   "file_extension": ".py",
   "mimetype": "text/x-python",
   "name": "python",
   "nbconvert_exporter": "python",
   "pygments_lexer": "ipython2",
   "version": "2.7.10"
  }
 },
 "nbformat": 4,
 "nbformat_minor": 0
}
