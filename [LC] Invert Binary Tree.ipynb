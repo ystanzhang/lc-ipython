{
 "cells": [
  {
   "cell_type": "raw",
   "metadata": {},
   "source": [
    "Invert a binary tree.\n",
    "\n",
    "     4\n",
    "   /   \\\n",
    "  2     7\n",
    " / \\   / \\\n",
    "1   3 6   9\n",
    "to\n",
    "     4\n",
    "   /   \\\n",
    "  7     2\n",
    " / \\   / \\\n",
    "9   6 3   1\n",
    "Trivia:\n",
    "This problem was inspired by this original tweet by Max Howell:\n",
    "Google: 90% of our engineers use the software you wrote (Homebrew), but you can’t invert a binary tree on a whiteboard so fuck off."
   ]
  },
  {
   "cell_type": "code",
   "execution_count": 1,
   "metadata": {
    "collapsed": true
   },
   "outputs": [],
   "source": [
    "import collections\n",
    "class TreeNode(object):\n",
    "    def __init__(self, x):\n",
    "        self.val = x\n",
    "        self.left = None\n",
    "        self.right = None\n",
    "def initNode (val):\n",
    "    if val == '#':\n",
    "        return None\n",
    "    return TreeNode(val)\n",
    "def deSorderLevel (seq):\n",
    "    index = 0\n",
    "    length = len(seq)\n",
    "    root = TreeNode(seq[index])\n",
    "    index += 1\n",
    "    qCur = collections.deque()\n",
    "    qNext = collections.deque()\n",
    "    qCur.append(root)\n",
    "    while qCur:\n",
    "        node = qCur.popleft()\n",
    "        if node:\n",
    "            left = initNode(seq[index])\n",
    "            node.left = left\n",
    "            qNext.append(left)\n",
    "            if index == length-1:\n",
    "                break\n",
    "            index += 1\n",
    "            right = initNode(seq[index])\n",
    "            node.right = right\n",
    "            qNext.append(right)\n",
    "            if index == length-1:\n",
    "                break\n",
    "            index += 1\n",
    "        if not qCur:\n",
    "            qCur,qNext = qNext,qCur\n",
    "    return root"
   ]
  },
  {
   "cell_type": "code",
   "execution_count": 77,
   "metadata": {
    "collapsed": true
   },
   "outputs": [],
   "source": [
    "seq = [5,4,7,3,'#',2,'#',-1,'#',9]\n",
    "root = deSorderLevel(seq)"
   ]
  },
  {
   "cell_type": "code",
   "execution_count": 60,
   "metadata": {
    "collapsed": true
   },
   "outputs": [],
   "source": [
    "class Solution(object):\n",
    "    def invertTree(self, root):\n",
    "        \"\"\"\n",
    "        :type root: TreeNode\n",
    "        :rtype: TreeNode\n",
    "        \"\"\"\n",
    "        if not root:\n",
    "            return None\n",
    "        qCur = collections.deque()\n",
    "        qNext = collections.deque()\n",
    "        qCur.append(root)\n",
    "        while qCur:\n",
    "            node = qCur.popleft()\n",
    "            if node:\n",
    "                node.left,node.right = node.right,node.left\n",
    "                qNext.append(node.left)\n",
    "                qNext.append(node.right)\n",
    "            if not qCur:\n",
    "                qCur,qNext = qNext,qCur\n",
    "        return root"
   ]
  },
  {
   "cell_type": "code",
   "execution_count": 78,
   "metadata": {
    "collapsed": false
   },
   "outputs": [
    {
     "name": "stdout",
     "output_type": "stream",
     "text": [
      "5\n",
      "7\n",
      "2\n",
      "9\n",
      "4\n",
      "3\n",
      "-1\n"
     ]
    }
   ],
   "source": [
    "sol = Solution()\n",
    "newRoot = sol.invertTree(root)\n",
    "preOrder(newRoot)"
   ]
  },
  {
   "cell_type": "code",
   "execution_count": 5,
   "metadata": {
    "collapsed": true
   },
   "outputs": [],
   "source": [
    "def preOrder(node):\n",
    "    if not node:\n",
    "        return\n",
    "    print node.val\n",
    "    preOrder(node.left)\n",
    "    preOrder(node.right)\n",
    "def inOrder(node):\n",
    "    if not node:\n",
    "        return\n",
    "    \n",
    "    inOrder(node.left)\n",
    "    print node.val\n",
    "    inOrder(node.right)\n",
    "def postOrder(node):\n",
    "    if not node:\n",
    "        return\n",
    "    postOrder(node.left)\n",
    "    print node.val\n",
    "    postOrder(node.right)"
   ]
  }
 ],
 "metadata": {
  "kernelspec": {
   "display_name": "Python 2",
   "language": "python",
   "name": "python2"
  },
  "language_info": {
   "codemirror_mode": {
    "name": "ipython",
    "version": 2
   },
   "file_extension": ".py",
   "mimetype": "text/x-python",
   "name": "python",
   "nbconvert_exporter": "python",
   "pygments_lexer": "ipython2",
   "version": "2.7.6"
  }
 },
 "nbformat": 4,
 "nbformat_minor": 0
}
