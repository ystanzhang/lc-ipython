{
 "cells": [
  {
   "cell_type": "markdown",
   "metadata": {},
   "source": [
    "Given an array nums, write a function to move all 0's to the end of it while maintaining the relative order of the non-zero elements.\n",
    "\n",
    "For example, given nums = [0, 1, 0, 3, 12], after calling your function, nums should be [1, 3, 12, 0, 0].\n",
    "\n",
    "Note:\n",
    "You must do this in-place without making a copy of the array.\n",
    "Minimize the total number of operations."
   ]
  },
  {
   "cell_type": "code",
   "execution_count": 20,
   "metadata": {
    "collapsed": true
   },
   "outputs": [],
   "source": [
    "class Solution(object):\n",
    "    def moveZeroes(self, nums):\n",
    "        \"\"\"\n",
    "        :type nums: List[int]\n",
    "        :rtype: void Do not return anything, modify nums in-place instead.\n",
    "        \"\"\"\n",
    "        lastZeroIdx = len(nums)-1\n",
    "        for i in range(len(nums)):\n",
    "            if nums[i] ==0 and i<lastZeroIdx :\n",
    "                while (nums[lastZeroIdx]==0):\n",
    "                    lastZeroIdx -= 1\n",
    "                    if lastZeroIdx == i:\n",
    "                        return\n",
    "                nums[i],nums[lastZeroIdx] = nums[lastZeroIdx], nums[i] \n",
    "        print nums"
   ]
  },
  {
   "cell_type": "code",
   "execution_count": 68,
   "metadata": {
    "collapsed": true
   },
   "outputs": [],
   "source": [
    "# too time consuming\n",
    "class Solution(object):\n",
    "    def moveZeroes(self, nums):\n",
    "        \"\"\"\n",
    "        :type nums: List[int]\n",
    "        :rtype: void Do not return anything, modify nums in-place instead.\n",
    "        \"\"\"\n",
    "        length = len(nums)\n",
    "        for i in range(length):\n",
    "            if nums[i] ==0:\n",
    "                j = i\n",
    "                while (nums[j]==0 and j<=length -2):\n",
    "                    j += 1\n",
    "                if j<=length-1:\n",
    "                    if nums[j] != 0:\n",
    "                        nums[i],nums[j] = nums[j],nums[i]\n",
    "                "
   ]
  },
  {
   "cell_type": "code",
   "execution_count": 96,
   "metadata": {
    "collapsed": false
   },
   "outputs": [],
   "source": [
    "class Solution(object):\n",
    "    def moveZeroes(self, nums):\n",
    "        zero, cur = -1, 0\n",
    "        while cur < len(nums):\n",
    "            if  nums[cur] != 0:\n",
    "                # update zero index when current is not zero\n",
    "                zero += 1\n",
    "                nums[cur], nums[zero] = nums[zero], nums[cur]\n",
    "            cur += 1\n",
    "                "
   ]
  },
  {
   "cell_type": "code",
   "execution_count": 97,
   "metadata": {
    "collapsed": false
   },
   "outputs": [
    {
     "name": "stdout",
     "output_type": "stream",
     "text": [
      "[0, 1, 0, 3, 12, 0, 14]\n",
      "last:  0  cur:  1\n",
      "[1, 0, 0, 3, 12, 0, 14]\n",
      "last:  1  cur:  3\n",
      "[1, 3, 0, 0, 12, 0, 14]\n",
      "last:  2  cur:  4\n",
      "[1, 3, 12, 0, 0, 0, 14]\n",
      "last:  3  cur:  6\n",
      "[1, 3, 12, 14, 0, 0, 0]\n"
     ]
    }
   ],
   "source": [
    "sol = Solution()\n",
    "sol.moveZeroes( [0,1,0,3,12,0,14])"
   ]
  },
  {
   "cell_type": "code",
   "execution_count": 106,
   "metadata": {
    "collapsed": false
   },
   "outputs": [
    {
     "name": "stdout",
     "output_type": "stream",
     "text": [
      "0\n"
     ]
    }
   ],
   "source": [
    "n = 0\n",
    "print n&(n-1)"
   ]
  },
  {
   "cell_type": "code",
   "execution_count": 118,
   "metadata": {
    "collapsed": false
   },
   "outputs": [
    {
     "name": "stdout",
     "output_type": "stream",
     "text": [
      "1\n",
      "1\n",
      "0\n"
     ]
    }
   ],
   "source": [
    "n = 11\n",
    "while (n>=2):\n",
    "    print n%2\n",
    "    n = n/2\n",
    "    "
   ]
  }
 ],
 "metadata": {
  "kernelspec": {
   "display_name": "Python 2",
   "language": "python",
   "name": "python2"
  },
  "language_info": {
   "codemirror_mode": {
    "name": "ipython",
    "version": 2
   },
   "file_extension": ".py",
   "mimetype": "text/x-python",
   "name": "python",
   "nbconvert_exporter": "python",
   "pygments_lexer": "ipython2",
   "version": "2.7.6"
  }
 },
 "nbformat": 4,
 "nbformat_minor": 0
}
