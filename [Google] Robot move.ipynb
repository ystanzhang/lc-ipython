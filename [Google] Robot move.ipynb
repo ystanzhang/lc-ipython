{
 "cells": [
  {
   "cell_type": "raw",
   "metadata": {},
   "source": [
    "We are given a string consisting of letters- F,L,R. - which is the instruction a robot follows\n",
    "\n",
    "F- goes forward by one step.\n",
    "\n",
    "L-turn left.\n",
    "\n",
    "R- turn right.\n",
    "\n",
    "String length can be upto 2500 characters."
   ]
  },
  {
   "cell_type": "code",
   "execution_count": null,
   "metadata": {
    "collapsed": true
   },
   "outputs": [],
   "source": [
    "directions = {}"
   ]
  },
  {
   "cell_type": "code",
   "execution_count": 9,
   "metadata": {
    "collapsed": false
   },
   "outputs": [
    {
     "name": "stdout",
     "output_type": "stream",
     "text": [
      "0\n"
     ]
    }
   ],
   "source": [
    "snapshot = {\"x\":0,\"y\":0,\"direction\":'N'}\n",
    "print snapshot[\"x\"]\n"
   ]
  },
  {
   "cell_type": "code",
   "execution_count": 22,
   "metadata": {
    "collapsed": false
   },
   "outputs": [],
   "source": [
    "def move (snapshot,commands):\n",
    "    x = snapshot[\"x\"]\n",
    "    y = snapshot[\"y\"]\n",
    "    dir = snapshot[\"dir\"] \n",
    "    for c in commands:\n",
    "        if c == \"L\":# Turn left\n",
    "            if dir ==\"N\":\n",
    "                x -= 1\n",
    "                dir = \"W\"\n",
    "            elif dir == \"S\":\n",
    "                x += 1\n",
    "                dir = \"E\"\n",
    "            elif dir == \"W\":\n",
    "                y -= 1\n",
    "                dir = \"S\"\n",
    "            elif dir == \"E\":\n",
    "                y += 1\n",
    "                dir = \"N\"\n",
    "        elif c == \"R\":# Turn right\n",
    "            if dir ==\"N\":\n",
    "                x  += 1\n",
    "                dir = \"E\"\n",
    "            elif dir == \"S\":\n",
    "                x -= 1\n",
    "                dir = \"W\"\n",
    "            elif dir == \"W\":\n",
    "                y += 1\n",
    "                dir = \"N\"\n",
    "            elif dir == \"E\":\n",
    "                y -= 1\n",
    "                dir = \"S\"\n",
    "        elif c==\"F\": #forward\n",
    "            if dir ==\"N\":\n",
    "                y += 1\n",
    "            elif dir == \"S\":\n",
    "                y -= 1\n",
    "            elif dir == \"W\":\n",
    "                x -= 1\n",
    "            elif dir == \"E\":\n",
    "                x += 1\n",
    "    #update the position at the end of string command\n",
    "    snapshot[\"x\"] = x\n",
    "    snapshot[\"y\"] = y\n",
    "    snapshot[\"dir\"] = dir"
   ]
  },
  {
   "cell_type": "code",
   "execution_count": 29,
   "metadata": {
    "collapsed": false
   },
   "outputs": [
    {
     "name": "stdout",
     "output_type": "stream",
     "text": [
      "found\n"
     ]
    }
   ],
   "source": [
    "snapshot = {\"x\":0,\"y\":0,\"dir\":'N'}\n",
    "move (snapshot,\"LLL\")\n",
    "if snapshot.has_key('x'):\n",
    "    print \"found\""
   ]
  },
  {
   "cell_type": "code",
   "execution_count": 5,
   "metadata": {
    "collapsed": false
   },
   "outputs": [
    {
     "name": "stdout",
     "output_type": "stream",
     "text": [
      "[1, 2]\n"
     ]
    }
   ],
   "source": [
    "a = [1,2,3]\n",
    "def dummy(ain):\n",
    "    ain.pop()\n",
    "dummy(a)\n",
    "print a"
   ]
  }
 ],
 "metadata": {
  "kernelspec": {
   "display_name": "Python 2",
   "language": "python",
   "name": "python2"
  },
  "language_info": {
   "codemirror_mode": {
    "name": "ipython",
    "version": 2
   },
   "file_extension": ".py",
   "mimetype": "text/x-python",
   "name": "python",
   "nbconvert_exporter": "python",
   "pygments_lexer": "ipython2",
   "version": "2.7.10"
  }
 },
 "nbformat": 4,
 "nbformat_minor": 0
}
