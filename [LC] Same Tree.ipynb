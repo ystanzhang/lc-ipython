{
 "cells": [
  {
   "cell_type": "markdown",
   "metadata": {},
   "source": [
    "Given two binary trees, write a function to check if they are equal or not.\n",
    "\n",
    "Two binary trees are considered equal if they are structurally identical and the nodes have the same value."
   ]
  },
  {
   "cell_type": "code",
   "execution_count": null,
   "metadata": {
    "collapsed": true
   },
   "outputs": [],
   "source": [
    "class TreeNode(object):\n",
    "    def __init__(self, x):\n",
    "        self.val = x\n",
    "        self.left = None\n",
    "        self.right = None\n"
   ]
  },
  {
   "cell_type": "code",
   "execution_count": 5,
   "metadata": {
    "collapsed": false
   },
   "outputs": [
    {
     "name": "stdout",
     "output_type": "stream",
     "text": [
      "1 [2, 3, 4]\n",
      "2 [3, 4]\n",
      "3 [4]\n",
      "4 []\n"
     ]
    }
   ],
   "source": [
    "queue = [1,2,3,4]\n",
    "while queue:\n",
    "    print queue.pop(0),queue"
   ]
  },
  {
   "cell_type": "code",
   "execution_count": null,
   "metadata": {
    "collapsed": true
   },
   "outputs": [],
   "source": [
    "# Definition for a binary tree node.\n",
    "# class TreeNode(object):\n",
    "#     def __init__(self, x):\n",
    "#         self.val = x\n",
    "#         self.left = None\n",
    "#         self.right = None\n",
    "\n",
    "class Solution(object):\n",
    "def isSameTree(self, p, q):\n",
    "    # init with root nodes, use list as stack\n",
    "    stack = [(p,q)]\n",
    "    while stack:\n",
    "        n1,n2 = stack.pop()\n",
    "        if n1 and n2 and n1.val == n2.val:\n",
    "            stack.append ((n1.left,n2.left))\n",
    "            stack.append((n1.right,n2.right))\n",
    "        elif not n1 and not n2:\n",
    "            continue\n",
    "        else:\n",
    "            return False\n",
    "    return True"
   ]
  },
  {
   "cell_type": "code",
   "execution_count": 7,
   "metadata": {
    "collapsed": false
   },
   "outputs": [],
   "source": [
    "class Solution(object):\n",
    "def isSameTree(self, p, q):\n",
    "    # init with root nodes, use list as queue\n",
    "    queue = [(p,q)]\n",
    "    while queue:\n",
    "        n1,n2 = queue.pop(0)\n",
    "        if not n1 and not n2:\n",
    "            continue\n",
    "        elif not n1 or not n2:\n",
    "            return False\n",
    "        elif n1.val != n2.val:\n",
    "            return False\n",
    "        else:\n",
    "            queue.append((n1.left,n2.left))\n",
    "            queue.append((n1.right,n2.right))\n",
    "    return True"
   ]
  },
  {
   "cell_type": "code",
   "execution_count": 9,
   "metadata": {
    "collapsed": true
   },
   "outputs": [],
   "source": [
    "class Node(object):\n",
    "    def __init__(self, x):\n",
    "        self.val = x\n",
    "        self.left = None\n",
    "        self.right = None\n"
   ]
  },
  {
   "cell_type": "raw",
   "metadata": {},
   "source": [
    "         1\n",
    "        / \\\n",
    "       /   \\\n",
    "      /     \\\n",
    "     2       3\n",
    "    / \\     /\n",
    "   4   5   6\n",
    "  /       / \\\n",
    " 7       8   9\n",
    "preorder:    1 2 4 7 5 3 6 8 9\n",
    "inorder:     7 4 2 5 1 8 6 9 3\n",
    "postorder:   7 4 5 2 8 9 6 3 1\n",
    "level-order: 1 2 3 4 5 6 7 8 9"
   ]
  },
  {
   "cell_type": "code",
   "execution_count": 37,
   "metadata": {
    "collapsed": true
   },
   "outputs": [],
   "source": [
    "root = Node(1)\n",
    "n2 = Node(2)\n",
    "n3 = Node(3)\n",
    "n4 = Node(4)\n",
    "n5 = Node(5)\n",
    "n6 = Node(6)\n",
    "n7 = Node(7)\n",
    "n8 = Node(8)\n",
    "n9 = Node(9)\n",
    "root.left = n2\n",
    "root.right = n3\n",
    "n2.left = n4\n",
    "n2.right = n5\n",
    "n4.left = n7\n",
    "n3.left = n6\n",
    "n6.left = n8\n",
    "n6.right = n9"
   ]
  },
  {
   "cell_type": "code",
   "execution_count": 33,
   "metadata": {
    "collapsed": true
   },
   "outputs": [],
   "source": [
    "# left->parent->right\n",
    "def inOrder(node):\n",
    "    if not node:\n",
    "        return\n",
    "    inOrder(node.left)\n",
    "    print node.val\n",
    "    inOrder(node.right)\n",
    "# parent->left->right    \n",
    "def preOrder(node):\n",
    "    if not node:\n",
    "        return\n",
    "    print node.val\n",
    "    preOrder(node.left)\n",
    "    preOrder(node.right)\n",
    "# left->right->parent\n",
    "def postOrder(node):\n",
    "    if not node:\n",
    "        return\n",
    "    postOrder(node.left)\n",
    "    postOrder(node.right)\n",
    "    print node.val"
   ]
  },
  {
   "cell_type": "code",
   "execution_count": 40,
   "metadata": {
    "collapsed": false
   },
   "outputs": [
    {
     "name": "stdout",
     "output_type": "stream",
     "text": [
      "7\n",
      "4\n",
      "5\n",
      "2\n",
      "8\n",
      "9\n",
      "6\n",
      "3\n",
      "1\n"
     ]
    }
   ],
   "source": [
    "postOrder(root)"
   ]
  }
 ],
 "metadata": {
  "kernelspec": {
   "display_name": "Python 2",
   "language": "python",
   "name": "python2"
  },
  "language_info": {
   "codemirror_mode": {
    "name": "ipython",
    "version": 2
   },
   "file_extension": ".py",
   "mimetype": "text/x-python",
   "name": "python",
   "nbconvert_exporter": "python",
   "pygments_lexer": "ipython2",
   "version": "2.7.6"
  }
 },
 "nbformat": 4,
 "nbformat_minor": 0
}
