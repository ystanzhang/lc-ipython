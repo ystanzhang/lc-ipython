{
 "cells": [
  {
   "cell_type": "markdown",
   "metadata": {},
   "source": [
    "Write a program to find the node at which the intersection of two singly linked lists begins.\n",
    "\n",
    "\n",
    "For example, the following two linked lists:\n",
    "\n",
    "A:          a1 → a2\n",
    "                   ↘\n",
    "                     c1 → c2 → c3\n",
    "                   ↗            \n",
    "B:     b1 → b2 → b3\n",
    "begin to intersect at node c1."
   ]
  },
  {
   "cell_type": "code",
   "execution_count": 1,
   "metadata": {
    "collapsed": true
   },
   "outputs": [],
   "source": [
    "class ListNode:\n",
    "    def __init__ (self,x):\n",
    "        self.val = x\n",
    "        self.next = None\n",
    "def construct_list (array):\n",
    "    head = ListNode (0)\n",
    "    for i in range (len(array)):\n",
    "        if i==0:\n",
    "            head = ListNode (array[i])\n",
    "            tail = head\n",
    "        else:\n",
    "            tail.next = ListNode (array[i])\n",
    "            tail = tail.next\n",
    "    return head\n",
    "def printList (l):\n",
    "    p = l\n",
    "    temp = []\n",
    "    while p:\n",
    "        temp.append(p.val)\n",
    "        p = p.next\n",
    "    print (arg,temp)"
   ]
  },
  {
   "cell_type": "code",
   "execution_count": 40,
   "metadata": {
    "collapsed": false
   },
   "outputs": [],
   "source": [
    "class Solution:\n",
    "    # @param two ListNodes\n",
    "    # @return the intersected ListNode\n",
    "    def length(self,head):\n",
    "        n = 0\n",
    "        p = head\n",
    "        while p:\n",
    "            n += 1\n",
    "            p = p.next\n",
    "        return n\n",
    "    def getIntersectionNode(self, headA, headB):\n",
    "        lenA,lenB = self.length(headA),self.length(headB)\n",
    "        if lenA*lenB ==0:\n",
    "            return None\n",
    "        while lenA<lenB:\n",
    "            headB = headB.next\n",
    "            lenB -= 1\n",
    "        while lenB<lenA:\n",
    "            headA = headA.next\n",
    "            lenA -= 1\n",
    "        while headA.val != headB.val:\n",
    "            if headA.next is None:\n",
    "                return None\n",
    "            else: \n",
    "                headA = headA.next\n",
    "                headB = headB.next\n",
    "        return headA"
   ]
  },
  {
   "cell_type": "code",
   "execution_count": 42,
   "metadata": {
    "collapsed": false
   },
   "outputs": [
    {
     "name": "stdout",
     "output_type": "stream",
     "text": [
      "('return', [3, 4])\n",
      "('l1', [3, 4])\n",
      "('l2', [2, 3, 4])\n"
     ]
    }
   ],
   "source": [
    "# No intersection: [1,3,5,7,9,11,13,15,17,19,21], [2]\n",
    "l1 = construct_list ([3,4])\n",
    "l2 = construct_list ([2,3,4])\n",
    "solution = Solution ()\n",
    "ret = solution.getIntersectionNode(l1,l2)\n",
    "print_list_array(ret,\"return\")\n",
    "print_list_array(l1,\"l1\")\n",
    "print_list_array(l2,\"l2\")"
   ]
  }
 ],
 "metadata": {
  "kernelspec": {
   "display_name": "Python 2",
   "language": "python",
   "name": "python2"
  },
  "language_info": {
   "codemirror_mode": {
    "name": "ipython",
    "version": 2
   },
   "file_extension": ".py",
   "mimetype": "text/x-python",
   "name": "python",
   "nbconvert_exporter": "python",
   "pygments_lexer": "ipython2",
   "version": "2.7.10"
  }
 },
 "nbformat": 4,
 "nbformat_minor": 0
}
