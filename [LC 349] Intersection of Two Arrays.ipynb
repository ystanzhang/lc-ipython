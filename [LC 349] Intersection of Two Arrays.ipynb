{
 "cells": [
  {
   "cell_type": "markdown",
   "metadata": {},
   "source": [
    "# Given two arrays, write a function to compute their intersection.\n",
    "\n",
    "*Example*:\n",
    "Given nums1 = [1, 2, 2, 1], nums2 = [2, 2], return [2].\n",
    "\n",
    "*Note*:\n",
    "Each element in the result must be unique.\n",
    "The result can be in any order.\n",
    "\n"
   ]
  },
  {
   "cell_type": "code",
   "execution_count": 14,
   "metadata": {
    "collapsed": true
   },
   "outputs": [],
   "source": [
    "def intersection(nums1, nums2):\n",
    "        \"\"\"\n",
    "        :type nums1: List[int]\n",
    "        :type nums2: List[int]\n",
    "        :rtype: List[int]\n",
    "        \"\"\"\n",
    "        res = []\n",
    "        minLen = min(len(nums1), len(nums2))\n",
    "        if minLen == 0:\n",
    "            return res\n",
    "        nums1Sorted = sorted(nums1)\n",
    "        nums2Sorted = sorted(nums2)\n",
    "        print nums1Sorted\n",
    "        print nums2Sorted\n",
    "        for i in range (minLen):\n",
    "            if nums1Sorted[i] == nums2Sorted[i]:\n",
    "                res.append(nums1Sorted[i])\n",
    "        return res"
   ]
  },
  {
   "cell_type": "code",
   "execution_count": 15,
   "metadata": {
    "collapsed": false
   },
   "outputs": [
    {
     "name": "stdout",
     "output_type": "stream",
     "text": [
      "[1, 2, 3]\n",
      "[1, 3]\n",
      "[1]\n"
     ]
    }
   ],
   "source": [
    "nums1 = [3,1,2]\n",
    "nums2 = [1,3]\n",
    "print(intersection(nums1, nums2))"
   ]
  }
 ],
 "metadata": {
  "kernelspec": {
   "display_name": "Python 2",
   "language": "python",
   "name": "python2"
  },
  "language_info": {
   "codemirror_mode": {
    "name": "ipython",
    "version": 2
   },
   "file_extension": ".py",
   "mimetype": "text/x-python",
   "name": "python",
   "nbconvert_exporter": "python",
   "pygments_lexer": "ipython2",
   "version": "2.7.10"
  }
 },
 "nbformat": 4,
 "nbformat_minor": 0
}
