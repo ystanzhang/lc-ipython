{
 "cells": [
  {
   "cell_type": "markdown",
   "metadata": {},
   "source": [
    "Given an array S of n integers, are there elements a, b, c in S such that a + b + c = 0? Find all unique triplets in the array which gives the sum of zero.\n",
    "\n",
    "Note: The solution set must not contain duplicate triplets.\n",
    "\n",
    "For example, given array S = [-1, 0, 1, 2, -1, -4],\n",
    "\n",
    "A solution set is:\n",
    "[\n",
    "  [-1, 0, 1],\n",
    "  [-1, -1, 2]\n",
    "]"
   ]
  },
  {
   "cell_type": "code",
   "execution_count": 22,
   "metadata": {
    "collapsed": true
   },
   "outputs": [],
   "source": [
    "def threeSum(inArray):\n",
    "    length = len(inArray)\n",
    "    res = []\n",
    "    if (length) < 3:\n",
    "        return None\n",
    "    for i in range(length):\n",
    "        if i+1 < length:\n",
    "            for j in range (i+1,length-i):\n",
    "                if j+1 < length:\n",
    "                    for k in range(j+1, length):\n",
    "                        if (inArray[i]+inArray[j]+inArray[k]) == 0:\n",
    "                            temp = sorted ([inArray[i],inArray[j],inArray[k]])\n",
    "                            if temp not in res:\n",
    "                                res.append([inArray[i],inArray[j],inArray[k]])\n",
    "    return res       "
   ]
  },
  {
   "cell_type": "code",
   "execution_count": 23,
   "metadata": {
    "collapsed": false
   },
   "outputs": [
    {
     "name": "stdout",
     "output_type": "stream",
     "text": [
      "[[-1, 0, 1], [-1, 2, -1]]\n"
     ]
    }
   ],
   "source": [
    "S =  [-1, 0, 1, 2, -1, -4]\n",
    "print(threeSum(S))"
   ]
  }
 ],
 "metadata": {
  "kernelspec": {
   "display_name": "Python 2",
   "language": "python",
   "name": "python2"
  },
  "language_info": {
   "codemirror_mode": {
    "name": "ipython",
    "version": 2
   },
   "file_extension": ".py",
   "mimetype": "text/x-python",
   "name": "python",
   "nbconvert_exporter": "python",
   "pygments_lexer": "ipython2",
   "version": "2.7.10"
  }
 },
 "nbformat": 4,
 "nbformat_minor": 0
}
