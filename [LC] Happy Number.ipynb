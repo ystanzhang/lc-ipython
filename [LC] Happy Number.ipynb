{
 "cells": [
  {
   "cell_type": "markdown",
   "metadata": {},
   "source": [
    "Write an algorithm to determine if a number is \"happy\".\n",
    "\n",
    "A happy number is a number defined by the following process: Starting with any positive integer, replace the number by the sum of the squares of its digits, and repeat the process until the number equals 1 (where it will stay), or it loops endlessly in a cycle which does not include 1. Those numbers for which this process ends in 1 are happy numbers.  "
   ]
  },
  {
   "cell_type": "code",
   "execution_count": null,
   "metadata": {
    "collapsed": true
   },
   "outputs": [],
   "source": [
    "class Solution(object):\n",
    "    def sumSquare (self,n):\n",
    "        sum = 0\n",
    "        while n:\n",
    "            digit = n%10\n",
    "            n = n/10\n",
    "            sum += digit**2\n",
    "        return sum\n",
    "    def isHappy(self, n):\n",
    "        \"\"\"\n",
    "        :type n: int\n",
    "        :rtype: bool\n",
    "        \"\"\"\n",
    "        slow = n\n",
    "        fast = self.sumSquare (n)\n",
    "        while (slow!=fast):\n",
    "            slow = self.sumSquare (slow)\n",
    "            fast = self.sumSquare (fast)\n",
    "            fast = self.sumSquare (fast)\n",
    "        if (slow!=1):\n",
    "            return False\n",
    "        return True"
   ]
  },
  {
   "cell_type": "code",
   "execution_count": null,
   "metadata": {
    "collapsed": false
   },
   "outputs": [],
   "source": [
    "sol = Solution ()\n",
    "n = 19\n",
    "if sol.isHappy(18):\n",
    "    print n,\" is happy\"\n",
    "else: \n",
    "    print n,\" is not happy\""
   ]
  }
 ],
 "metadata": {
  "kernelspec": {
   "display_name": "Python 2",
   "language": "python",
   "name": "python2"
  },
  "language_info": {
   "codemirror_mode": {
    "name": "ipython",
    "version": 2
   },
   "file_extension": ".py",
   "mimetype": "text/x-python",
   "name": "python",
   "nbconvert_exporter": "python",
   "pygments_lexer": "ipython2",
   "version": "2.7.6"
  }
 },
 "nbformat": 4,
 "nbformat_minor": 0
}
