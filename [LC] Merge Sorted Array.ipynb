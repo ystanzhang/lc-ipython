{
 "cells": [
  {
   "cell_type": "code",
   "execution_count": 15,
   "metadata": {
    "collapsed": false
   },
   "outputs": [],
   "source": [
    "class Solution(object):\n",
    "    def merge(self, nums1, m, nums2, n):\n",
    "        i = m-1\n",
    "        j = n-1\n",
    "        k = m+n-1\n",
    "        while (i>=0 and j>=0):\n",
    "            if nums1[i]>nums2[j]:\n",
    "                nums1[k] = nums1[i]\n",
    "                k -= 1\n",
    "                i -= 1\n",
    "            else:\n",
    "                nums1[k] = nums2[j]\n",
    "                k -= 1\n",
    "                j -= 1\n",
    "        \n",
    "        while (j>=0):\n",
    "            nums1[k] = nums2[j]\n",
    "            k -= 1\n",
    "            j -= 1\n",
    "        print nums1"
   ]
  },
  {
   "cell_type": "code",
   "execution_count": 29,
   "metadata": {
    "collapsed": true
   },
   "outputs": [],
   "source": [
    "class Solution(object):\n",
    "    def merge(self, nums1, m, nums2, n):\n",
    "        # last item of nums1 and nums2\n",
    "        i = m-1\n",
    "        j = n-1\n",
    "        # last item of completed\n",
    "        k = m+n-1\n",
    "        while (i>=0 and j>=0):\n",
    "            if nums1[i] >= nums2[j]:\n",
    "                nums1[k] = nums1[i]\n",
    "                k -= 1\n",
    "                i -= 1\n",
    "            else:\n",
    "                nums1[k] = nums2[j]\n",
    "                k -= 1\n",
    "                j -= 1\n",
    "        # it is possible nums2 have items not handled if min(nums2) < min(nums1)\n",
    "        while (j>=0):\n",
    "            nums1[k] = nums2[j]\n",
    "            k -= 1\n",
    "            j -= 1"
   ]
  },
  {
   "cell_type": "code",
   "execution_count": 32,
   "metadata": {
    "collapsed": false
   },
   "outputs": [
    {
     "name": "stdout",
     "output_type": "stream",
     "text": [
      "[1, 2, 4, 6, 100, 100, 9]\n",
      "[1, 2, 4, 6, 100, 8, 9]\n",
      "[1, 2, 4, 6, 6, 8, 9]\n",
      "[1, 2, 4, 4, 6, 8, 9]\n",
      "[1, 2, 3, 4, 6, 8, 9]\n",
      "i:  1 j: -1\n",
      "[1, 2, 3, 4, 6, 8, 9]\n"
     ]
    }
   ],
   "source": [
    "sol = Solution ()\n",
    "nums1 = [1,2,4,6,100,100,100]\n",
    "nums2 = [3,8,9]\n",
    "m = 4\n",
    "n = 3\n",
    "sol.merge(nums1, m, nums2, n)"
   ]
  },
  {
   "cell_type": "code",
   "execution_count": 19,
   "metadata": {
    "collapsed": false
   },
   "outputs": [
    {
     "name": "stdout",
     "output_type": "stream",
     "text": [
      "3\n",
      "2\n",
      "1\n",
      "0\n"
     ]
    }
   ],
   "source": [
    "for i in range(3,-1,-1):\n",
    "    print i"
   ]
  }
 ],
 "metadata": {
  "kernelspec": {
   "display_name": "Python 2",
   "language": "python",
   "name": "python2"
  },
  "language_info": {
   "codemirror_mode": {
    "name": "ipython",
    "version": 2
   },
   "file_extension": ".py",
   "mimetype": "text/x-python",
   "name": "python",
   "nbconvert_exporter": "python",
   "pygments_lexer": "ipython2",
   "version": "2.7.6"
  }
 },
 "nbformat": 4,
 "nbformat_minor": 0
}
