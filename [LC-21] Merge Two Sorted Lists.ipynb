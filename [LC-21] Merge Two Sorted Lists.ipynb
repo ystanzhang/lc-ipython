{
 "cells": [
  {
   "cell_type": "code",
   "execution_count": 1,
   "metadata": {
    "collapsed": true
   },
   "outputs": [],
   "source": [
    "class ListNode:\n",
    "    def __init__ (self,x):\n",
    "        self.val = x\n",
    "        self.next = None"
   ]
  },
  {
   "cell_type": "code",
   "execution_count": 2,
   "metadata": {
    "collapsed": true
   },
   "outputs": [],
   "source": [
    "def print_link_list (l):\n",
    "    p = l\n",
    "    while p is not None:\n",
    "        print p.val\n",
    "        p = p.next"
   ]
  },
  {
   "cell_type": "code",
   "execution_count": 3,
   "metadata": {
    "collapsed": true
   },
   "outputs": [],
   "source": [
    "l1 = ListNode (0)\n",
    "l1.next = ListNode (2)\n",
    "l1.next.next = ListNode (4)\n",
    "l2 = ListNode (1)\n",
    "l2.next = ListNode (3)\n",
    "l2.next.next = ListNode (5)"
   ]
  },
  {
   "cell_type": "code",
   "execution_count": 31,
   "metadata": {
    "collapsed": true
   },
   "outputs": [],
   "source": [
    "# iterative\n",
    "def mergeTwoLists(l1,l2):\n",
    "    p1,p2 = l1,l2\n",
    "    \n",
    "    if l1 is None:\n",
    "        return l2\n",
    "    elif l2 is None:\n",
    "        return l1\n",
    "    else:\n",
    "        head = ListNode (0)\n",
    "        while p1 is not None and p2 is not None:\n",
    "            if p1.val <= p2.val:\n",
    "                if head.next is None:\n",
    "                    head.next = p1\n",
    "                    tail = head.next\n",
    "                else:\n",
    "                    tail.next = p1\n",
    "                    tail = tail.next\n",
    "                p1 = p1.next\n",
    "            else:\n",
    "                if head.next is None:\n",
    "                    head.next = p2\n",
    "                    tail = head.next\n",
    "                else:\n",
    "                    tail.next = p2\n",
    "                    tail = tail.next\n",
    "                p2 = p2.next\n",
    "        if p1 is not None:\n",
    "            tail.next = p1\n",
    "        elif p2 is not None:\n",
    "            tail.next = p2\n",
    "    return head.next"
   ]
  },
  {
   "cell_type": "code",
   "execution_count": 9,
   "metadata": {
    "collapsed": true
   },
   "outputs": [],
   "source": [
    "# recursive approach\n",
    "def mergeTwoLists2(l1, l2):\n",
    "        a,b = l1,l2\n",
    "        \n",
    "        if a and b:\n",
    "            print(a.val, b.val)\n",
    "            if a.val > b.val:\n",
    "                a, b = b, a\n",
    "            a.next = mergeTwoLists2(a.next, b)\n",
    "        return a or b"
   ]
  },
  {
   "cell_type": "code",
   "execution_count": 10,
   "metadata": {
    "collapsed": false,
    "scrolled": true
   },
   "outputs": [
    {
     "name": "stdout",
     "output_type": "stream",
     "text": [
      "(0, 1)\n",
      "(2, 1)\n",
      "(3, 2)\n",
      "(4, 3)\n",
      "(5, 4)\n",
      "0\n",
      "1\n",
      "2\n",
      "3\n",
      "4\n",
      "5\n"
     ]
    }
   ],
   "source": [
    "l1 = ListNode (0)\n",
    "l1.next = ListNode (2)\n",
    "l1.next.next = ListNode (4)\n",
    "l2 = ListNode (1)\n",
    "l2.next = ListNode (3)\n",
    "l2.next.next = ListNode (5)\n",
    "print_link_list(mergeTwoLists2(l1,l2))"
   ]
  }
 ],
 "metadata": {
  "kernelspec": {
   "display_name": "Python 2",
   "language": "python",
   "name": "python2"
  },
  "language_info": {
   "codemirror_mode": {
    "name": "ipython",
    "version": 2
   },
   "file_extension": ".py",
   "mimetype": "text/x-python",
   "name": "python",
   "nbconvert_exporter": "python",
   "pygments_lexer": "ipython2",
   "version": "2.7.10"
  }
 },
 "nbformat": 4,
 "nbformat_minor": 0
}
